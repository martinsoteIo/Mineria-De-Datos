{
 "cells": [
  {
   "cell_type": "markdown",
   "metadata": {
    "nbgrader": {
     "grade": false,
     "grade_id": "cell-637be58929fcc02b",
     "locked": true,
     "schema_version": 3,
     "solution": false,
     "task": false
    }
   },
   "source": [
    "## Manejo de variables categóricas e imputación de valores perdidos\n",
    "\n",
    "En este Notebook os voy a dar información para aplicar técnicas para tratar con valores perdidos y transformar variables categóricas en variables numéricas para que todas las técnicas implementadas en Scikit-learn puedan utilizarse con toda la información disponible del problema a abordar.  Además, también se ofrece información sobre cómo utilizarlas en Pipelines y optimizar los híper-parámetros de todos los componentes de la misma de forma conjunta y cómo aplicar transformaciones diferentes a las variables en función de sus características. El guión es el siguiente:\n",
    "\n",
    "* [Análsis de los datos](#0)\n",
    "* [Imputación de valores perdidos](#1)\n",
    "* [Transformación de variables categóricas a numéricas](#2)\n",
    "* [Validación de modelos con Pipelines y ColumnTransformer](#3)"
   ]
  },
  {
   "cell_type": "markdown",
   "metadata": {
    "nbgrader": {
     "grade": false,
     "grade_id": "cell-6555cf961520488d",
     "locked": true,
     "schema_version": 3,
     "solution": false,
     "task": false
    }
   },
   "source": [
    "# Análisis de los datos <a class=\"anchor\" id=\"0\"></a>"
   ]
  },
  {
   "cell_type": "markdown",
   "metadata": {
    "nbgrader": {
     "grade": false,
     "grade_id": "cell-2a3478499bfe031e",
     "locked": true,
     "schema_version": 3,
     "solution": false,
     "task": false
    }
   },
   "source": [
    "Para conocer los tipos de datos almacenados en el DataFrame correspondiente al problema a abordar se puede visualizar la propiedad *dtypes*: *dataFrame.dtypes*.\n",
    "* Para saber si la variable i-ésima es categórica o no podemos hacer: *dataFrame.dtypes[i]==object* o *dataFrame.dtypes[i]!=object*.\n",
    "* Para obtener el número de categorías diferentes de una variable categórica podemos hacer: *dataFrame.nombreVariable.nunique()*\n",
    "\n",
    "NOTA: las columnas cuyo tipo de dato sea *object* son posibles variables categóricas. La razón de que solamente sean posibles que si existieran valores perdidos en un atributo numérico y estuviera representado por un string también conllevaría que el tipo de la columna fuera *object*."
   ]
  },
  {
   "cell_type": "markdown",
   "metadata": {
    "nbgrader": {
     "grade": false,
     "grade_id": "cell-09eb564deeb70e55",
     "locked": true,
     "schema_version": 3,
     "solution": false,
     "task": false
    }
   },
   "source": [
    "Para comprobar si las variables contienen valores perdidos o no podemos utilizar el método [*isnull*](https://pandas.pydata.org/pandas-docs/stable/reference/api/pandas.isnull.html) de Pandas puesto que determina si los valores de una columna son nulos o no. \n",
    "* Si sumamos esa máscara obtendremos el número de valores perdidos.\n",
    "* Si aplicamos *isnull* sin especificar ninguna variable y sumamos el resultado (la máscara booleana) obtenemos una *Serie* cuyo índice son los nombres de las variables y los valores son el número de valores nulos de cada una de ellas.\n",
    "* Para obtener los índices de los ejemplos con valores nules en una variable se puede hacer: *dataFrame[dataFrame.variable.isnull()].index.tolist()*\n",
    "* Podemos visualizar los ejemplos con valores nulos del siguiente modo: *dataFrame[dataFrame.isnull().any(axis=1)]*"
   ]
  },
  {
   "cell_type": "markdown",
   "metadata": {
    "nbgrader": {
     "grade": false,
     "grade_id": "cell-b71d741884ce6a32",
     "locked": true,
     "schema_version": 3,
     "solution": false,
     "task": false
    }
   },
   "source": [
    "# Imputación de valores perdidos <a class=\"anchor\" id=\"1\"></a>"
   ]
  },
  {
   "cell_type": "markdown",
   "metadata": {
    "nbgrader": {
     "grade": false,
     "grade_id": "cell-050a882dedd72913",
     "locked": true,
     "schema_version": 3,
     "solution": false,
     "task": false
    }
   },
   "source": [
    "Para imputar valores perdidos mediante la técnica de la imputación de la media (moda, mediana), Scikit-learn nos ofrece la clase [*SimpleImputer*](https://scikit-learn.org/stable/modules/generated/sklearn.impute.SimpleImputer.html) en la que el híper-parámetro *strategy* define la estrategia de imputación a utilizar:\n",
    "* *mean*: asigna la media de los ejemplos en cada variable para los valores perdidos\n",
    "* *median*: asigna la mediana de los ejemplos en cada variable para los valores perdidos\n",
    "* *most_frequent*: asigna la moda de los ejemplos en cada variable para los valores perdidos"
   ]
  },
  {
   "cell_type": "markdown",
   "metadata": {
    "nbgrader": {
     "grade": false,
     "grade_id": "cell-ff14f6792c816a19",
     "locked": true,
     "schema_version": 3,
     "solution": false,
     "task": false
    }
   },
   "source": [
    "En caso de que existan valores perdidos en variables tanto en variables categóricas como numéricas debemos realizar la imputación adecuada a cada tipo de variable.\n",
    "\n",
    "Para poder realizarlo, *Scikit-learn* provee la clase [*ColumnTransformer*](https://scikit-learn.org/stable/modules/generated/sklearn.compose.ColumnTransformer.html#sklearn.compose.ColumnTransformer) mediante la que se pueden aplicar determinadas transformaciones a determinadas variables. Para ello, en el híper-parámetro *transformers* se debe especificar una lista de tuplas en la que en cada tupla se determina el nombre de la transformación, la transformación a aplicar y las variables sobre las que aplicarla\n",
    "\n",
    "    (nombreTransformación, transformación, ListaVariables)\n",
    "    \n",
    "Cabe destacar que la transformación a aplicar puede ser:\n",
    "* Una técnica específica o una Pipeline en la que se encadenen varias técnicas a aplicar sobre las variables.\n",
    "* El string *drop* para indicar que eliminen esas variables.\n",
    "* El string *passthrough* para indicar que no haga nada con esas variables.\n",
    "\n",
    "Otro híper-parámetro es *remainder* que especifica qué hacer con las variables que no se hayan especificado en el híper-parámetro *transformers*. Las opciones son los strings *drop* y *passthrough* explicados anteriormente. El valor por defecto es *drop* por lo que si hay variables que no se especifican en el híper-parámetro *transformers* serán eliminadas.\n",
    "    \n",
    "Una vez creado el objeto de la clase *ColumnTransformer* se pueden aplicar los métodos habituales de las técnicas de pre-procesamiento de datos: *fit*, *transform* y *fit_transform*.\n",
    "\n",
    "Tras *ColumnTransformer*, el objeto que devuelve pasa a ser un array de Numpy. Por este motivo, en caso de que interese, se puede crear un DataFrame a partir de dicho objeto (y tener toda la información de nombres de variables por ejemplo). La único que hay que tener en cuenta es que las variables no estarán en el orden original sino en el orden en el que haya sido utilizadas por *ColumnTransformer*. Por tanto, el parámetro *columns* de *DataFrame* hay que asignarlo de forma adecuada (el *index* será el mismo que el del DataFrame original)."
   ]
  },
  {
   "cell_type": "markdown",
   "metadata": {
    "nbgrader": {
     "grade": false,
     "grade_id": "cell-6736b45d17b41e19",
     "locked": true,
     "schema_version": 3,
     "solution": false,
     "task": false
    }
   },
   "source": [
    "Otra forma de imputar valores perdidos que ofrece Scikit-learn es la imputación de valores perdidos de acuerdo a los vecinos más cercanos. La clase asociada a dicha técnica se llama [*KNNImputer*](https://scikit-learn.org/stable/modules/generated/sklearn.impute.KNNImputer.html). Los híper-parámetros más importantes de esta clase son:\n",
    "* n_neighbors: valor entero que determina el número de vecinos a utilizar en la imputación. Por defecto es 5.\n",
    "* weights: string (uniform o distance) que determina la forma de tener en cuenta a los vecinos más cercanos para realizar la imputación. Por defecto es uniform.\n",
    "* copy: valor booleano que determina si realizar la imputación y devolver una copia del DataFrame (True, valor por defecto) o realizarla *in place* (False).\n",
    "\n",
    "La implementación ofrecida en Scikit-learn de esta técnica tiene el problema de que las variables categóricas necesitan estar codificadas como numéricas con anterioridad a aplicarla (por usar los métodos de la clase KNN por debajo). Por ello, la tenemos que utilizar tras tener todas las variables como numéricas. Para ello, en las técnicas de transformación de variables categóricas a numéricas se debe hacer que en caso de que haya valores perdidos se transformen a *NaN* (es decir, *handle_missing='return_nan'* tal y como se explica posteriormente)."
   ]
  },
  {
   "cell_type": "markdown",
   "metadata": {
    "nbgrader": {
     "grade": false,
     "grade_id": "cell-d292c8c0bb9b551f",
     "locked": true,
     "schema_version": 3,
     "solution": false,
     "task": false
    }
   },
   "source": [
    "# Transformación de variables categóricas a numéricas <a class=\"anchor\" id=\"2\"></a>"
   ]
  },
  {
   "cell_type": "markdown",
   "metadata": {
    "nbgrader": {
     "grade": false,
     "grade_id": "cell-236313aaea889944",
     "locked": true,
     "schema_version": 3,
     "solution": false,
     "task": false
    }
   },
   "source": [
    "Existe una librería en la que están implementadas numerosas técnicas de transformación de variables categóricas a numéricas. Esta librería se llama [*category_encoders*](https://pypi.org/project/category-encoders/) y la deberíamos instalar en caso de que no tengamos el entorno que os proporcionamos en la asigantura. Normalmente esta librería se importa con el nombre *ce*: *import category_encoders as ce*\n",
    "    \n",
    "En concreto vamos a utilizar los siguientes métodos de transformación de variables categóricas en numéricas:\n",
    "\n",
    "* Codificación ordinal\n",
    "* Codificación del conteo\n",
    "* Codificación One-Hot\n",
    "* Codificación binaria\n",
    "* Codificación basada en la salida\n",
    "\n",
    "Además de todas estas técnicas, también ofrece métodos avanzados como Catboost, el contraste de Helmert, el contraste polinomial, backward difference, etc... \n",
    "\n",
    "Las librerías Pandas y Scikit también implementan algunas de estas técnicas pero los procesos son más complicados y, en el caso de las implementaciones de Pandas no permiten incluir esta transformación dentro de una *Pipeline* al no tener implementados los métodos *fit* y *transform*."
   ]
  },
  {
   "cell_type": "markdown",
   "metadata": {
    "nbgrader": {
     "grade": false,
     "grade_id": "cell-0dd6a3444478fdd0",
     "locked": true,
     "schema_version": 3,
     "solution": false,
     "task": false
    }
   },
   "source": [
    "## Codificación ordinal\n",
    "\n",
    "La librería *category_encoders* ofrece la clase [*OrdinalEncoder*](http://contrib.scikit-learn.org/category_encoders/ordinal.html). Los híper-parámetros de esta clase son sencillos, debemos destacar cuatro:\n",
    "* *cols*: permite establecer una lista con los nombres de las variables a transformar. Si se usa el valor por defecto, que es *None*, transforma todas las variables categóricas.\n",
    "* *mapping*: es una lista de diccionarios que permitiría establecer manualmente los valores numéricos a asignar a las diferentes categorías de cada variable. \n",
    "    * Esta opción daría lugar a la técnica de transformación de variables categóricas a numericas conocida como *encoding labels*. En Scikit-learn se puede realizar esta transformación utilizando la clase [*LabelEncoder*](https://scikit-learn.org/stable/modules/generated/sklearn.preprocessing.LabelEncoder.html) y en Pandas mediante el método [*replace*](https://pandas.pydata.org/pandas-docs/stable/reference/api/pandas.DataFrame.replace.html).\n",
    "* *handle_missing*: string que determina como tratar los valores perdidos a la otra de realizar la transformación. Las opciones son error (devuelve error), return_nan (devuelve NaN) y value (trata los valores perdidos como una categoría más y, por tanto, les asigna un nuevo valor numérico o -2 si no es en el proceso de entrenamiento).\n",
    "* *handle_unknown*: string que determina cómo tratar nuevas categorías en test. Las opciones son las mismas que para el caso de valores perdidos pero en la opción valor transforma las nuevas caegorías a -1 (para diferenciarlas de los valores perdidos en caso de que haya al entrenar).\n",
    "    \n",
    "NOTA: Pandas permite realizar la transformación ordinal utilizando el método [*factorize*](https://pandas.pydata.org/pandas-docs/stable/reference/api/pandas.factorize.html)."
   ]
  },
  {
   "cell_type": "markdown",
   "metadata": {
    "nbgrader": {
     "grade": false,
     "grade_id": "cell-8032c84e319f462d",
     "locked": true,
     "schema_version": 3,
     "solution": false,
     "task": false
    }
   },
   "source": [
    "## Codificación del conteo"
   ]
  },
  {
   "cell_type": "markdown",
   "metadata": {
    "nbgrader": {
     "grade": false,
     "grade_id": "cell-c1a6e79097d3aa33",
     "locked": true,
     "schema_version": 3,
     "solution": false,
     "task": false
    }
   },
   "source": [
    "La librería *category_encoders* ofrece la clase [*CountEncoder*](http://contrib.scikit-learn.org/category_encoders/count.html). Los híper-parámetros de esta clase son similares a los de la clase anterior."
   ]
  },
  {
   "cell_type": "markdown",
   "metadata": {
    "nbgrader": {
     "grade": false,
     "grade_id": "cell-faa5bbf6758c77d6",
     "locked": true,
     "schema_version": 3,
     "solution": false,
     "task": false
    }
   },
   "source": [
    "## Codificación One Hot\n",
    "\n",
    "La librería *category_encoders* ofrece la clase [*OneHotEncoder*](http://contrib.scikit-learn.org/category_encoders/onehot.html) y los híper-parámetros son comunes a las clases anteriores. \n",
    "* Pandas permite realizar esta transformación mediante el método [*get_dummies*](https://pandas.pydata.org/pandas-docs/stable/reference/api/pandas.get_dummies.html).\n",
    "* Scikit-learn ofrece la clase [*LabelBinarizer*](https://scikit-learn.org/stable/modules/generated/sklearn.preprocessing.LabelBinarizer.html) para realizara esta transformación."
   ]
  },
  {
   "cell_type": "markdown",
   "metadata": {
    "nbgrader": {
     "grade": false,
     "grade_id": "cell-93df204f0be1d8e6",
     "locked": true,
     "schema_version": 3,
     "solution": false,
     "task": false
    }
   },
   "source": [
    "## Codificación binaria\n",
    "\n",
    "La librería *category_encoders* ofrece la clase [*BinaryEncoder*](http://contrib.scikit-learn.org/category_encoders/binary.html) y los híper-parámetros son comunes a las clases anteriores. "
   ]
  },
  {
   "cell_type": "markdown",
   "metadata": {
    "nbgrader": {
     "grade": false,
     "grade_id": "cell-397a0295f44bb388",
     "locked": true,
     "schema_version": 3,
     "solution": false,
     "task": false
    }
   },
   "source": [
    "## Codificación basada en la salida\n",
    "\n",
    "La librería *category_encoders* ofrece la clase [*TargetEncoder*](http://contrib.scikit-learn.org/category_encoders/targetencoder.html) y los híper-parámetros son comunes a las clases anteriores. Esta clase tiene un híper-parámetro llamado *smoothing* que determina si para asignar el valor se tiene en cuenta los valores de la variable a predecir de todos los ejemplos (independientemente de la categoría a sustituir):\n",
    "* Regresión: la media de los valores (de la variable a predecir) que sean de la categoría a transformar se modifica teniendo en cuenta la media de los valores de la variable a predecir de todos los ejemplos. \n",
    "* Clasificación: la probabilidad de que los ejemplos que sean de la categoría a transformar sean de la clase 1 se modifica teniendo en cuenta la probabilidad de tener dicha clase en el conjunto de entrenamiento.\n",
    "\n",
    "En ambos caso, cuanto mayor sea el valor del híper-parámetro *smoothing* más tenderá el valor transformado a la media de la variable a predecir de todos los ejemplos (o la probabilidad de tener ejemplos de la clase 1). \n",
    "* Un valor típico de *smoothing* para que se obtenga casi la media de los valores de la categoría a transformar es 0.0000001.\n",
    "\n",
    "Además, como esta técnica utiliza información de la variable a predecir, al método *fit* se le debe pasar tanto los valores de los ejemplos en las variables de entrada (X) como en la de salida (y) para que pueda aprender los valores a asignar a cada categoría."
   ]
  },
  {
   "cell_type": "markdown",
   "metadata": {
    "nbgrader": {
     "grade": false,
     "grade_id": "cell-6c6eb4ed717c3a72",
     "locked": true,
     "schema_version": 3,
     "solution": false,
     "task": false
    }
   },
   "source": [
    "COMENTARIO GENERAL\n",
    "\n",
    "Se pueden aplicar diferentes trasnformaciones a las variables en función de sus características. Por ejemplo, puede ser interesante aplicar una transformación ordinal a las variables con dos valores (o menos), una transformación *One hot* a las variables con pocos valores y una basada en la salida para las que tienen muchos y, de esta forma, evitar generar una matriz dispersa. Para ello, se debe utilizar *ColumnTransformer* sobre los grupos de variables de interés."
   ]
  },
  {
   "cell_type": "markdown",
   "metadata": {
    "nbgrader": {
     "grade": false,
     "grade_id": "cell-9da67c492e078902",
     "locked": true,
     "schema_version": 3,
     "solution": false,
     "task": false
    }
   },
   "source": [
    "# Validación de modelos con Pipelines y ColumnTransformer <a class=\"anchor\" id=\"3\"></a>"
   ]
  },
  {
   "cell_type": "markdown",
   "metadata": {
    "nbgrader": {
     "grade": false,
     "grade_id": "cell-92876d81e4ac0e5b",
     "locked": true,
     "schema_version": 3,
     "solution": false,
     "task": false
    }
   },
   "source": [
    "Al igual que realizamos para un modelo de aprendizaje, existe la posibilidad de buscar la mejor configuración de toda la Pipeline (los mejores valores de sus híper-parámetros). Para ello, utilizamos la clase llamada *GridSearchCV* o *RandomizedSearchCV* de la librería *model_selection* que realiza tal proceso de forma automática.\n",
    "\n",
    "Cuando las Pipelines contienen objetos *ColumnTransformer*, se pueden conseguir los mejores valores de los híper-parámetros utilizando *GridSearchCV*. Como estos objetos son mucho más complicados, para conocer los nombres de los híper-parámetros susceptibles de ser tratados podemos ejecutar la siguiente instrucción: *pipeline.get_params().keys()*"
   ]
  },
  {
   "cell_type": "markdown",
   "metadata": {
    "nbgrader": {
     "grade": false,
     "grade_id": "cell-ea4a0bc92b87e290",
     "locked": true,
     "schema_version": 3,
     "solution": false,
     "task": false
    }
   },
   "source": [
    "Algo útil para entender qué se hace en las Pipelines, y más cuando son complicadas como es el caso obtenido si alguno de los componentes es un *ColumnTransformer*, es mostrarlas visualmente. Para ello, existe el método [*set_config*](https://scikit-learn.org/stable/modules/generated/sklearn.set_config.html#sklearn.set_config) de Scikit-learn (nos permite mostrar visualmente objetos de muchas clases). El parámetro *display* determina si mostrar el resultado como una gráfica ('diagram') o como texto ('text'). Una vez determinada la forma de mostrar el resultado, al escribir el nombre de la variable donde se almacena el objeto de la clase de Scikit-learn éste se mostrará visualmente."
   ]
  },
  {
   "cell_type": "code",
   "execution_count": null,
   "metadata": {
    "nbgrader": {
     "grade": false,
     "grade_id": "cell-7a7f1aec7ea133d3",
     "locked": true,
     "schema_version": 3,
     "solution": false,
     "task": false
    }
   },
   "outputs": [],
   "source": [
    "# Importamos el método set_config\n",
    "from sklearn import set_config\n",
    "\n",
    "# Llamamos al método determinando que el resultado se muestre gráficamente\n",
    "set_config(display=\"diagram\")\n",
    "# Determinamos el objeto sobre el que mostrar su flujo\n",
    "modeloVisualizar  # Si hacéis click en el diagrama se muestran los detalles de cada componente"
   ]
  }
 ],
 "metadata": {
  "celltoolbar": "Create Assignment",
  "kernelspec": {
   "display_name": "Python 3 (ipykernel)",
   "language": "python",
   "name": "python3"
  },
  "language_info": {
   "codemirror_mode": {
    "name": "ipython",
    "version": 3
   },
   "file_extension": ".py",
   "mimetype": "text/x-python",
   "name": "python",
   "nbconvert_exporter": "python",
   "pygments_lexer": "ipython3",
   "version": "3.8.10"
  }
 },
 "nbformat": 4,
 "nbformat_minor": 2
}
